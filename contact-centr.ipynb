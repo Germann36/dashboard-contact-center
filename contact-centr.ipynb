{
 "cells": [
  {
   "cell_type": "markdown",
   "id": "48e225d5-2d4d-480b-93ed-6de5559ba001",
   "metadata": {},
   "source": [
    "# Витрина данных для дашборда "
   ]
  },
  {
   "cell_type": "markdown",
   "id": "a2628084-3a22-4507-b553-45ac4f49d8d4",
   "metadata": {},
   "source": [
    "Задача — создать витрину данных для дашборда контакт-центра. Дашборд должен отображать ключевые метрики, такие как время ответа на заявки, количество обработанных заявок и другие показатели, которые помогут оценить эффективность работы отдела."
   ]
  },
  {
   "cell_type": "markdown",
   "id": "2bb789a4-087d-4ac1-9642-3f0d9acbe327",
   "metadata": {},
   "source": [
    " "
   ]
  },
  {
   "cell_type": "markdown",
   "id": "1e2ed68c-3260-449c-8c38-0c02c44d685a",
   "metadata": {},
   "source": [
    "### Импорт библиотек"
   ]
  },
  {
   "cell_type": "code",
   "execution_count": 2,
   "id": "576d9da3-00a0-4c83-abac-4017d904c269",
   "metadata": {
    "tags": []
   },
   "outputs": [],
   "source": [
    "import pandas as pd\n",
    "from sqlalchemy import create_engine, text"
   ]
  },
  {
   "cell_type": "code",
   "execution_count": 3,
   "id": "9fd4d4f5-de4a-4acc-bb05-48fb650933c6",
   "metadata": {
    "tags": []
   },
   "outputs": [
    {
     "name": "stdout",
     "output_type": "stream",
     "text": [
      "Requirement already satisfied: sqlalchemy in c:\\users\\huawei\\anaconda3\\lib\\site-packages (1.4.39)\n",
      "Requirement already satisfied: pandas in c:\\users\\huawei\\anaconda3\\lib\\site-packages (2.0.3)\n",
      "Requirement already satisfied: psycopg2 in c:\\users\\huawei\\anaconda3\\lib\\site-packages (2.9.9)\n",
      "Requirement already satisfied: greenlet!=0.4.17 in c:\\users\\huawei\\anaconda3\\lib\\site-packages (from sqlalchemy) (2.0.1)\n",
      "Requirement already satisfied: python-dateutil>=2.8.2 in c:\\users\\huawei\\anaconda3\\lib\\site-packages (from pandas) (2.8.2)\n",
      "Requirement already satisfied: pytz>=2020.1 in c:\\users\\huawei\\anaconda3\\lib\\site-packages (from pandas) (2023.3.post1)\n",
      "Requirement already satisfied: tzdata>=2022.1 in c:\\users\\huawei\\anaconda3\\lib\\site-packages (from pandas) (2023.3)\n",
      "Requirement already satisfied: numpy>=1.21.0 in c:\\users\\huawei\\anaconda3\\lib\\site-packages (from pandas) (1.24.3)\n",
      "Requirement already satisfied: six>=1.5 in c:\\users\\huawei\\anaconda3\\lib\\site-packages (from python-dateutil>=2.8.2->pandas) (1.16.0)\n",
      "Note: you may need to restart the kernel to use updated packages.\n"
     ]
    }
   ],
   "source": [
    "pip install sqlalchemy pandas psycopg2"
   ]
  },
  {
   "cell_type": "markdown",
   "id": "c56a9258-027d-4c67-a3b1-6e5bc9fe6548",
   "metadata": {},
   "source": [
    " "
   ]
  },
  {
   "cell_type": "markdown",
   "id": "077076c9-9b6a-4866-997c-2c27e785c25e",
   "metadata": {},
   "source": [
    "### Подключение к базе данных"
   ]
  },
  {
   "cell_type": "code",
   "execution_count": null,
   "id": "86692775-c09b-43b5-b493-a92a551164c2",
   "metadata": {},
   "outputs": [],
   "source": [
    "# Параметры подключения к базе данных\n",
    "DB_HOST = '****'\n",
    "DB_NAME = '****'\n",
    "DB_USER = '****'\n",
    "DB_PASSWORD = '****'\n",
    "DB_PORT = '****'\n",
    "\n",
    "# Строка подключения к PostgreSQL\n",
    "connection_string = f\"postgresql+psycopg2://{DB_USER}:{DB_PASSWORD}@{DB_HOST}:{DB_PORT}/{DB_NAME}\"\n",
    "\n",
    "# Создание движка SQLAlchemy\n",
    "engine = create_engine(connection_string)"
   ]
  },
  {
   "cell_type": "markdown",
   "id": "6139e77e-914a-4b1c-8226-e16468e4120b",
   "metadata": {},
   "source": [
    " "
   ]
  },
  {
   "cell_type": "markdown",
   "id": "1b980e3a-4988-4dfc-b3b9-39db922bb980",
   "metadata": {},
   "source": [
    "### Шаг 1: Создание представления с клиентами по указанным источникам"
   ]
  },
  {
   "cell_type": "code",
   "execution_count": null,
   "id": "462a5711-d7c5-4b3a-8811-9cfb4a37514d",
   "metadata": {},
   "outputs": [],
   "source": [
    "with engine.connect() as connection:\n",
    "    \n",
    "    src_client_requests = [\"source_1\", \"source_2\", \"source_3\"] # Назначим переменную для перечисления основных источников обращений клиентов\n",
    "    \n",
    "    query = text(\"SELECT id_client          \\\n",
    "                        ,create_date_client  \\\n",
    "                    FROM all_client           \\\n",
    "                   WHERE TRUE                  \\\n",
    "                     AND promotion IN :src_client_requests\")\n",
    "\n",
    "    client_requests = pd.read_sql(query, connection, params={\"src_client_requests\": tuple(src_client_requests)})\n",
    "    \n",
    "client_requests"
   ]
  },
  {
   "cell_type": "markdown",
   "id": "be41bfac-9132-4903-b4bf-b347ff71b04c",
   "metadata": {},
   "source": [
    " "
   ]
  },
  {
   "cell_type": "markdown",
   "id": "517ee6ef-226c-479a-bb9c-66c14758d962",
   "metadata": {},
   "source": [
    "*Дальнейшие шаги в разработке, но скоро здесь будет рабочий код!*"
   ]
  }
 ],
 "metadata": {
  "kernelspec": {
   "display_name": "Python 3 (ipykernel)",
   "language": "python",
   "name": "python3"
  },
  "language_info": {
   "codemirror_mode": {
    "name": "ipython",
    "version": 3
   },
   "file_extension": ".py",
   "mimetype": "text/x-python",
   "name": "python",
   "nbconvert_exporter": "python",
   "pygments_lexer": "ipython3",
   "version": "3.11.5"
  }
 },
 "nbformat": 4,
 "nbformat_minor": 5
}
